{
  "nbformat": 4,
  "nbformat_minor": 0,
  "metadata": {
    "colab": {
      "provenance": [],
      "authorship_tag": "ABX9TyO58GGX2o0K9c/+FbGT68sU",
      "include_colab_link": true
    },
    "kernelspec": {
      "name": "python3",
      "display_name": "Python 3"
    },
    "language_info": {
      "name": "python"
    }
  },
  "cells": [
    {
      "cell_type": "markdown",
      "metadata": {
        "id": "view-in-github",
        "colab_type": "text"
      },
      "source": [
        "<a href=\"https://colab.research.google.com/github/Shiv2612/Linear-Regression-Health-Costs-Calculator/blob/main/Linear_Regression_Health_Costs_Calculator.ipynb\" target=\"_parent\"><img src=\"https://colab.research.google.com/assets/colab-badge.svg\" alt=\"Open In Colab\"/></a>"
      ]
    },
    {
      "cell_type": "markdown",
      "source": [
        "***Linear Regression Health Costs Calculator***"
      ],
      "metadata": {
        "id": "VN6XxN9LpbFW"
      }
    },
    {
      "cell_type": "markdown",
      "source": [
        "**Instruction**"
      ],
      "metadata": {
        "id": "TZAfFLUzpuIP"
      }
    },
    {
      "cell_type": "markdown",
      "source": [
        "In this challenge, you will predict healthcare costs using a regression algorithm.\n",
        "\n",
        "You are given a dataset that contains information about different people including their healthcare costs. Use the data to predict healthcare costs based on new data.\n",
        "\n",
        "The first two cells of this notebook import libraries and the data.\n",
        "\n",
        "Make sure to convert categorical data to numbers. Use 80% of the data as the train_dataset and 20% of the data as the test_dataset.\n",
        "\n",
        "pop off the \"expenses\" column from these datasets to create new datasets called train_labels and test_labels. Use these labels when training your model.\n",
        "\n",
        "Create a model and train it with the train_dataset. Run the final cell in this notebook to check your model. The final cell will use the unseen test_dataset to check how well the model generalizes.\n",
        "\n",
        "To pass the challenge, model.evaluate must return a Mean Absolute Error of under 3500. This means it predicts health care costs correctly within $3500.\n",
        "\n",
        "The final cell will also predict expenses using the test_dataset and graph the results."
      ],
      "metadata": {
        "id": "dsiR37JRpzF3"
      }
    },
    {
      "cell_type": "markdown",
      "source": [
        "**Load data**"
      ],
      "metadata": {
        "id": "6RTy_tegqFLD"
      }
    },
    {
      "cell_type": "code",
      "source": [
        "# Import libraries. You may or may not use all of these.\n",
        "!pip install -q git+https://github.com/tensorflow/docs\n",
        "import matplotlib.pyplot as plt\n",
        "import numpy as np\n",
        "import pandas as pd\n",
        "\n",
        "try:\n",
        "  # %tensorflow_version only exists in Colab.\n",
        "  %tensorflow_version 2.x\n",
        "except Exception:\n",
        "  pass\n",
        "import tensorflow as tf\n",
        "\n",
        "from tensorflow import keras\n",
        "from tensorflow.keras import layers\n",
        "\n",
        "import tensorflow_docs as tfdocs\n",
        "import tensorflow_docs.plots\n",
        "import tensorflow_docs.modeling"
      ],
      "metadata": {
        "colab": {
          "base_uri": "https://localhost:8080/"
        },
        "id": "t_doOkvatmSW",
        "outputId": "ae455567-c55b-4332-ebce-7eadb2d4b3a4"
      },
      "execution_count": 1,
      "outputs": [
        {
          "output_type": "stream",
          "name": "stdout",
          "text": [
            "  Preparing metadata (setup.py) ... \u001b[?25l\u001b[?25hdone\n",
            "  Building wheel for tensorflow-docs (setup.py) ... \u001b[?25l\u001b[?25hdone\n",
            "Colab only includes TensorFlow 2.x; %tensorflow_version has no effect.\n"
          ]
        }
      ]
    },
    {
      "cell_type": "code",
      "source": [
        "# Import data\n",
        "!wget https://cdn.freecodecamp.org/project-data/health-costs/insurance.csv\n",
        "dataset = pd.read_csv('insurance.csv')\n",
        "dataset.tail()"
      ],
      "metadata": {
        "colab": {
          "base_uri": "https://localhost:8080/",
          "height": 397
        },
        "id": "EztVrihXt6rm",
        "outputId": "b690970a-8be8-450f-c002-6c8cd1a06458"
      },
      "execution_count": 2,
      "outputs": [
        {
          "output_type": "stream",
          "name": "stdout",
          "text": [
            "--2023-11-04 14:23:38--  https://cdn.freecodecamp.org/project-data/health-costs/insurance.csv\n",
            "Resolving cdn.freecodecamp.org (cdn.freecodecamp.org)... 104.26.3.33, 104.26.2.33, 172.67.70.149, ...\n",
            "Connecting to cdn.freecodecamp.org (cdn.freecodecamp.org)|104.26.3.33|:443... connected.\n",
            "HTTP request sent, awaiting response... 200 OK\n",
            "Length: 50264 (49K) [text/csv]\n",
            "Saving to: ‘insurance.csv’\n",
            "\n",
            "\rinsurance.csv         0%[                    ]       0  --.-KB/s               \rinsurance.csv       100%[===================>]  49.09K  --.-KB/s    in 0.01s   \n",
            "\n",
            "2023-11-04 14:23:38 (4.66 MB/s) - ‘insurance.csv’ saved [50264/50264]\n",
            "\n"
          ]
        },
        {
          "output_type": "execute_result",
          "data": {
            "text/plain": [
              "      age     sex   bmi  children smoker     region  expenses\n",
              "1333   50    male  31.0         3     no  northwest  10600.55\n",
              "1334   18  female  31.9         0     no  northeast   2205.98\n",
              "1335   18  female  36.9         0     no  southeast   1629.83\n",
              "1336   21  female  25.8         0     no  southwest   2007.95\n",
              "1337   61  female  29.1         0    yes  northwest  29141.36"
            ],
            "text/html": [
              "\n",
              "  <div id=\"df-b80a7c49-3098-43aa-9539-e28e16ee50d5\" class=\"colab-df-container\">\n",
              "    <div>\n",
              "<style scoped>\n",
              "    .dataframe tbody tr th:only-of-type {\n",
              "        vertical-align: middle;\n",
              "    }\n",
              "\n",
              "    .dataframe tbody tr th {\n",
              "        vertical-align: top;\n",
              "    }\n",
              "\n",
              "    .dataframe thead th {\n",
              "        text-align: right;\n",
              "    }\n",
              "</style>\n",
              "<table border=\"1\" class=\"dataframe\">\n",
              "  <thead>\n",
              "    <tr style=\"text-align: right;\">\n",
              "      <th></th>\n",
              "      <th>age</th>\n",
              "      <th>sex</th>\n",
              "      <th>bmi</th>\n",
              "      <th>children</th>\n",
              "      <th>smoker</th>\n",
              "      <th>region</th>\n",
              "      <th>expenses</th>\n",
              "    </tr>\n",
              "  </thead>\n",
              "  <tbody>\n",
              "    <tr>\n",
              "      <th>1333</th>\n",
              "      <td>50</td>\n",
              "      <td>male</td>\n",
              "      <td>31.0</td>\n",
              "      <td>3</td>\n",
              "      <td>no</td>\n",
              "      <td>northwest</td>\n",
              "      <td>10600.55</td>\n",
              "    </tr>\n",
              "    <tr>\n",
              "      <th>1334</th>\n",
              "      <td>18</td>\n",
              "      <td>female</td>\n",
              "      <td>31.9</td>\n",
              "      <td>0</td>\n",
              "      <td>no</td>\n",
              "      <td>northeast</td>\n",
              "      <td>2205.98</td>\n",
              "    </tr>\n",
              "    <tr>\n",
              "      <th>1335</th>\n",
              "      <td>18</td>\n",
              "      <td>female</td>\n",
              "      <td>36.9</td>\n",
              "      <td>0</td>\n",
              "      <td>no</td>\n",
              "      <td>southeast</td>\n",
              "      <td>1629.83</td>\n",
              "    </tr>\n",
              "    <tr>\n",
              "      <th>1336</th>\n",
              "      <td>21</td>\n",
              "      <td>female</td>\n",
              "      <td>25.8</td>\n",
              "      <td>0</td>\n",
              "      <td>no</td>\n",
              "      <td>southwest</td>\n",
              "      <td>2007.95</td>\n",
              "    </tr>\n",
              "    <tr>\n",
              "      <th>1337</th>\n",
              "      <td>61</td>\n",
              "      <td>female</td>\n",
              "      <td>29.1</td>\n",
              "      <td>0</td>\n",
              "      <td>yes</td>\n",
              "      <td>northwest</td>\n",
              "      <td>29141.36</td>\n",
              "    </tr>\n",
              "  </tbody>\n",
              "</table>\n",
              "</div>\n",
              "    <div class=\"colab-df-buttons\">\n",
              "\n",
              "  <div class=\"colab-df-container\">\n",
              "    <button class=\"colab-df-convert\" onclick=\"convertToInteractive('df-b80a7c49-3098-43aa-9539-e28e16ee50d5')\"\n",
              "            title=\"Convert this dataframe to an interactive table.\"\n",
              "            style=\"display:none;\">\n",
              "\n",
              "  <svg xmlns=\"http://www.w3.org/2000/svg\" height=\"24px\" viewBox=\"0 -960 960 960\">\n",
              "    <path d=\"M120-120v-720h720v720H120Zm60-500h600v-160H180v160Zm220 220h160v-160H400v160Zm0 220h160v-160H400v160ZM180-400h160v-160H180v160Zm440 0h160v-160H620v160ZM180-180h160v-160H180v160Zm440 0h160v-160H620v160Z\"/>\n",
              "  </svg>\n",
              "    </button>\n",
              "\n",
              "  <style>\n",
              "    .colab-df-container {\n",
              "      display:flex;\n",
              "      gap: 12px;\n",
              "    }\n",
              "\n",
              "    .colab-df-convert {\n",
              "      background-color: #E8F0FE;\n",
              "      border: none;\n",
              "      border-radius: 50%;\n",
              "      cursor: pointer;\n",
              "      display: none;\n",
              "      fill: #1967D2;\n",
              "      height: 32px;\n",
              "      padding: 0 0 0 0;\n",
              "      width: 32px;\n",
              "    }\n",
              "\n",
              "    .colab-df-convert:hover {\n",
              "      background-color: #E2EBFA;\n",
              "      box-shadow: 0px 1px 2px rgba(60, 64, 67, 0.3), 0px 1px 3px 1px rgba(60, 64, 67, 0.15);\n",
              "      fill: #174EA6;\n",
              "    }\n",
              "\n",
              "    .colab-df-buttons div {\n",
              "      margin-bottom: 4px;\n",
              "    }\n",
              "\n",
              "    [theme=dark] .colab-df-convert {\n",
              "      background-color: #3B4455;\n",
              "      fill: #D2E3FC;\n",
              "    }\n",
              "\n",
              "    [theme=dark] .colab-df-convert:hover {\n",
              "      background-color: #434B5C;\n",
              "      box-shadow: 0px 1px 3px 1px rgba(0, 0, 0, 0.15);\n",
              "      filter: drop-shadow(0px 1px 2px rgba(0, 0, 0, 0.3));\n",
              "      fill: #FFFFFF;\n",
              "    }\n",
              "  </style>\n",
              "\n",
              "    <script>\n",
              "      const buttonEl =\n",
              "        document.querySelector('#df-b80a7c49-3098-43aa-9539-e28e16ee50d5 button.colab-df-convert');\n",
              "      buttonEl.style.display =\n",
              "        google.colab.kernel.accessAllowed ? 'block' : 'none';\n",
              "\n",
              "      async function convertToInteractive(key) {\n",
              "        const element = document.querySelector('#df-b80a7c49-3098-43aa-9539-e28e16ee50d5');\n",
              "        const dataTable =\n",
              "          await google.colab.kernel.invokeFunction('convertToInteractive',\n",
              "                                                    [key], {});\n",
              "        if (!dataTable) return;\n",
              "\n",
              "        const docLinkHtml = 'Like what you see? Visit the ' +\n",
              "          '<a target=\"_blank\" href=https://colab.research.google.com/notebooks/data_table.ipynb>data table notebook</a>'\n",
              "          + ' to learn more about interactive tables.';\n",
              "        element.innerHTML = '';\n",
              "        dataTable['output_type'] = 'display_data';\n",
              "        await google.colab.output.renderOutput(dataTable, element);\n",
              "        const docLink = document.createElement('div');\n",
              "        docLink.innerHTML = docLinkHtml;\n",
              "        element.appendChild(docLink);\n",
              "      }\n",
              "    </script>\n",
              "  </div>\n",
              "\n",
              "\n",
              "<div id=\"df-3cdfb4fe-9244-4e01-9280-2da47fbbcdd4\">\n",
              "  <button class=\"colab-df-quickchart\" onclick=\"quickchart('df-3cdfb4fe-9244-4e01-9280-2da47fbbcdd4')\"\n",
              "            title=\"Suggest charts.\"\n",
              "            style=\"display:none;\">\n",
              "\n",
              "<svg xmlns=\"http://www.w3.org/2000/svg\" height=\"24px\"viewBox=\"0 0 24 24\"\n",
              "     width=\"24px\">\n",
              "    <g>\n",
              "        <path d=\"M19 3H5c-1.1 0-2 .9-2 2v14c0 1.1.9 2 2 2h14c1.1 0 2-.9 2-2V5c0-1.1-.9-2-2-2zM9 17H7v-7h2v7zm4 0h-2V7h2v10zm4 0h-2v-4h2v4z\"/>\n",
              "    </g>\n",
              "</svg>\n",
              "  </button>\n",
              "\n",
              "<style>\n",
              "  .colab-df-quickchart {\n",
              "      --bg-color: #E8F0FE;\n",
              "      --fill-color: #1967D2;\n",
              "      --hover-bg-color: #E2EBFA;\n",
              "      --hover-fill-color: #174EA6;\n",
              "      --disabled-fill-color: #AAA;\n",
              "      --disabled-bg-color: #DDD;\n",
              "  }\n",
              "\n",
              "  [theme=dark] .colab-df-quickchart {\n",
              "      --bg-color: #3B4455;\n",
              "      --fill-color: #D2E3FC;\n",
              "      --hover-bg-color: #434B5C;\n",
              "      --hover-fill-color: #FFFFFF;\n",
              "      --disabled-bg-color: #3B4455;\n",
              "      --disabled-fill-color: #666;\n",
              "  }\n",
              "\n",
              "  .colab-df-quickchart {\n",
              "    background-color: var(--bg-color);\n",
              "    border: none;\n",
              "    border-radius: 50%;\n",
              "    cursor: pointer;\n",
              "    display: none;\n",
              "    fill: var(--fill-color);\n",
              "    height: 32px;\n",
              "    padding: 0;\n",
              "    width: 32px;\n",
              "  }\n",
              "\n",
              "  .colab-df-quickchart:hover {\n",
              "    background-color: var(--hover-bg-color);\n",
              "    box-shadow: 0 1px 2px rgba(60, 64, 67, 0.3), 0 1px 3px 1px rgba(60, 64, 67, 0.15);\n",
              "    fill: var(--button-hover-fill-color);\n",
              "  }\n",
              "\n",
              "  .colab-df-quickchart-complete:disabled,\n",
              "  .colab-df-quickchart-complete:disabled:hover {\n",
              "    background-color: var(--disabled-bg-color);\n",
              "    fill: var(--disabled-fill-color);\n",
              "    box-shadow: none;\n",
              "  }\n",
              "\n",
              "  .colab-df-spinner {\n",
              "    border: 2px solid var(--fill-color);\n",
              "    border-color: transparent;\n",
              "    border-bottom-color: var(--fill-color);\n",
              "    animation:\n",
              "      spin 1s steps(1) infinite;\n",
              "  }\n",
              "\n",
              "  @keyframes spin {\n",
              "    0% {\n",
              "      border-color: transparent;\n",
              "      border-bottom-color: var(--fill-color);\n",
              "      border-left-color: var(--fill-color);\n",
              "    }\n",
              "    20% {\n",
              "      border-color: transparent;\n",
              "      border-left-color: var(--fill-color);\n",
              "      border-top-color: var(--fill-color);\n",
              "    }\n",
              "    30% {\n",
              "      border-color: transparent;\n",
              "      border-left-color: var(--fill-color);\n",
              "      border-top-color: var(--fill-color);\n",
              "      border-right-color: var(--fill-color);\n",
              "    }\n",
              "    40% {\n",
              "      border-color: transparent;\n",
              "      border-right-color: var(--fill-color);\n",
              "      border-top-color: var(--fill-color);\n",
              "    }\n",
              "    60% {\n",
              "      border-color: transparent;\n",
              "      border-right-color: var(--fill-color);\n",
              "    }\n",
              "    80% {\n",
              "      border-color: transparent;\n",
              "      border-right-color: var(--fill-color);\n",
              "      border-bottom-color: var(--fill-color);\n",
              "    }\n",
              "    90% {\n",
              "      border-color: transparent;\n",
              "      border-bottom-color: var(--fill-color);\n",
              "    }\n",
              "  }\n",
              "</style>\n",
              "\n",
              "  <script>\n",
              "    async function quickchart(key) {\n",
              "      const quickchartButtonEl =\n",
              "        document.querySelector('#' + key + ' button');\n",
              "      quickchartButtonEl.disabled = true;  // To prevent multiple clicks.\n",
              "      quickchartButtonEl.classList.add('colab-df-spinner');\n",
              "      try {\n",
              "        const charts = await google.colab.kernel.invokeFunction(\n",
              "            'suggestCharts', [key], {});\n",
              "      } catch (error) {\n",
              "        console.error('Error during call to suggestCharts:', error);\n",
              "      }\n",
              "      quickchartButtonEl.classList.remove('colab-df-spinner');\n",
              "      quickchartButtonEl.classList.add('colab-df-quickchart-complete');\n",
              "    }\n",
              "    (() => {\n",
              "      let quickchartButtonEl =\n",
              "        document.querySelector('#df-3cdfb4fe-9244-4e01-9280-2da47fbbcdd4 button');\n",
              "      quickchartButtonEl.style.display =\n",
              "        google.colab.kernel.accessAllowed ? 'block' : 'none';\n",
              "    })();\n",
              "  </script>\n",
              "</div>\n",
              "    </div>\n",
              "  </div>\n"
            ]
          },
          "metadata": {},
          "execution_count": 2
        }
      ]
    },
    {
      "cell_type": "code",
      "source": [
        "# Convert categorical columns into numeric\n",
        "CATEGORICAL_COLUMNS = ['sex', 'smoker', 'region']\n",
        "\n",
        "for column in CATEGORICAL_COLUMNS:\n",
        "  dataset[column] = dataset[column].astype('category').cat.codes"
      ],
      "metadata": {
        "id": "SPcvB_s-uGra"
      },
      "execution_count": 3,
      "outputs": []
    },
    {
      "cell_type": "code",
      "source": [
        "# Separate dataset into train and test data\n",
        "train_dataset, test_dataset = np.split(dataset, [int(.8 * len(dataset))])"
      ],
      "metadata": {
        "id": "FJpJiIVmuRCz"
      },
      "execution_count": 4,
      "outputs": []
    },
    {
      "cell_type": "code",
      "source": [
        "# Pop 'expenses' column as label\n",
        "train_labels, test_labels = train_dataset.pop('expenses'), test_dataset.pop('expenses')"
      ],
      "metadata": {
        "id": "TymXH4XYua03"
      },
      "execution_count": 5,
      "outputs": []
    },
    {
      "cell_type": "code",
      "source": [
        "# Create normalized data layer\n",
        "normalizer = layers.experimental.preprocessing.Normalization(axis=-1)\n",
        "normalizer.adapt(np.array(train_dataset))"
      ],
      "metadata": {
        "id": "Padob-eougB4"
      },
      "execution_count": 6,
      "outputs": []
    },
    {
      "cell_type": "code",
      "source": [
        "normalizer"
      ],
      "metadata": {
        "colab": {
          "base_uri": "https://localhost:8080/"
        },
        "id": "4TncHIUYumnt",
        "outputId": "a7ddc685-89ea-46c3-9cc2-e0aea076a91a"
      },
      "execution_count": 7,
      "outputs": [
        {
          "output_type": "execute_result",
          "data": {
            "text/plain": [
              "<keras.src.layers.preprocessing.normalization.Normalization at 0x79c31ca6edd0>"
            ]
          },
          "metadata": {},
          "execution_count": 7
        }
      ]
    },
    {
      "cell_type": "code",
      "source": [
        "# Create model\n",
        "model = keras.Sequential([\n",
        "                          normalizer,\n",
        "                          layers.Dense(2),\n",
        "                          layers.Dense(1)\n",
        "])\n",
        "\n",
        "model.compile(optimizer=keras.optimizers.Adam(learning_rate=0.1),\n",
        "              loss='mae',\n",
        "              metrics=['mae', 'mse'])\n",
        "\n",
        "model.summary()"
      ],
      "metadata": {
        "colab": {
          "base_uri": "https://localhost:8080/"
        },
        "id": "P8ONbDYZurQh",
        "outputId": "92c47d57-02ea-44b9-818e-9fd2cf9b1bc4"
      },
      "execution_count": 8,
      "outputs": [
        {
          "output_type": "stream",
          "name": "stdout",
          "text": [
            "Model: \"sequential\"\n",
            "_________________________________________________________________\n",
            " Layer (type)                Output Shape              Param #   \n",
            "=================================================================\n",
            " normalization (Normalizati  (None, 6)                 13        \n",
            " on)                                                             \n",
            "                                                                 \n",
            " dense (Dense)               (None, 2)                 14        \n",
            "                                                                 \n",
            " dense_1 (Dense)             (None, 1)                 3         \n",
            "                                                                 \n",
            "=================================================================\n",
            "Total params: 30 (124.00 Byte)\n",
            "Trainable params: 17 (68.00 Byte)\n",
            "Non-trainable params: 13 (56.00 Byte)\n",
            "_________________________________________________________________\n"
          ]
        }
      ]
    },
    {
      "cell_type": "code",
      "source": [
        "# Train model\n",
        "model.fit(train_dataset, train_labels, epochs=100, validation_split=0.2)"
      ],
      "metadata": {
        "colab": {
          "base_uri": "https://localhost:8080/"
        },
        "id": "SRiow2i2uumu",
        "outputId": "4e9c8252-bcc7-492a-b26a-185090a25a7b"
      },
      "execution_count": 9,
      "outputs": [
        {
          "output_type": "stream",
          "name": "stdout",
          "text": [
            "Epoch 1/100\n",
            "27/27 [==============================] - 1s 11ms/step - loss: 13195.4834 - mae: 13195.4834 - mse: 320391616.0000 - val_loss: 13246.3945 - val_mae: 13246.3945 - val_mse: 313628960.0000\n",
            "Epoch 2/100\n",
            "27/27 [==============================] - 0s 3ms/step - loss: 13153.2285 - mae: 13153.2285 - mse: 319225536.0000 - val_loss: 13175.8408 - val_mae: 13175.8408 - val_mse: 311761120.0000\n",
            "Epoch 3/100\n",
            "27/27 [==============================] - 0s 3ms/step - loss: 13046.1230 - mae: 13046.1230 - mse: 316243136.0000 - val_loss: 13035.3086 - val_mae: 13035.3086 - val_mse: 307831200.0000\n",
            "Epoch 4/100\n",
            "27/27 [==============================] - 0s 4ms/step - loss: 12861.3281 - mae: 12861.3281 - mse: 311358560.0000 - val_loss: 12815.8086 - val_mae: 12815.8086 - val_mse: 302084608.0000\n",
            "Epoch 5/100\n",
            "27/27 [==============================] - 0s 3ms/step - loss: 12594.8867 - mae: 12594.8867 - mse: 304773568.0000 - val_loss: 12518.2031 - val_mae: 12518.2031 - val_mse: 294729408.0000\n",
            "Epoch 6/100\n",
            "27/27 [==============================] - 0s 4ms/step - loss: 12241.5166 - mae: 12241.5166 - mse: 295759840.0000 - val_loss: 12138.7910 - val_mae: 12138.7910 - val_mse: 284949472.0000\n",
            "Epoch 7/100\n",
            "27/27 [==============================] - 0s 3ms/step - loss: 11811.7598 - mae: 11811.7598 - mse: 285274784.0000 - val_loss: 11696.1055 - val_mae: 11696.1055 - val_mse: 274150208.0000\n",
            "Epoch 8/100\n",
            "27/27 [==============================] - 0s 3ms/step - loss: 11321.0889 - mae: 11321.0889 - mse: 272574656.0000 - val_loss: 11190.2910 - val_mae: 11190.2910 - val_mse: 260516880.0000\n",
            "Epoch 9/100\n",
            "27/27 [==============================] - 0s 4ms/step - loss: 10761.1074 - mae: 10761.1074 - mse: 257544384.0000 - val_loss: 10583.5352 - val_mae: 10583.5352 - val_mse: 244562496.0000\n",
            "Epoch 10/100\n",
            "27/27 [==============================] - 0s 3ms/step - loss: 10128.6152 - mae: 10128.6152 - mse: 240759744.0000 - val_loss: 9899.8525 - val_mae: 9899.8525 - val_mse: 226436080.0000\n",
            "Epoch 11/100\n",
            "27/27 [==============================] - 0s 4ms/step - loss: 9400.8047 - mae: 9400.8047 - mse: 222758304.0000 - val_loss: 9130.0645 - val_mae: 9130.0645 - val_mse: 208818624.0000\n",
            "Epoch 12/100\n",
            "27/27 [==============================] - 0s 3ms/step - loss: 8603.5635 - mae: 8603.5635 - mse: 204148032.0000 - val_loss: 8269.9482 - val_mae: 8269.9482 - val_mse: 189255744.0000\n",
            "Epoch 13/100\n",
            "27/27 [==============================] - 0s 4ms/step - loss: 7724.4502 - mae: 7724.4502 - mse: 184786368.0000 - val_loss: 7386.8359 - val_mae: 7386.8359 - val_mse: 169346464.0000\n",
            "Epoch 14/100\n",
            "27/27 [==============================] - 0s 5ms/step - loss: 6852.8857 - mae: 6852.8857 - mse: 165366736.0000 - val_loss: 6539.2222 - val_mae: 6539.2222 - val_mse: 150397904.0000\n",
            "Epoch 15/100\n",
            "27/27 [==============================] - 0s 5ms/step - loss: 6077.5503 - mae: 6077.5503 - mse: 145934592.0000 - val_loss: 5904.1885 - val_mae: 5904.1885 - val_mse: 131184544.0000\n",
            "Epoch 16/100\n",
            "27/27 [==============================] - 0s 6ms/step - loss: 5532.4780 - mae: 5532.4780 - mse: 126218784.0000 - val_loss: 5426.8867 - val_mae: 5426.8867 - val_mse: 113149232.0000\n",
            "Epoch 17/100\n",
            "27/27 [==============================] - 0s 5ms/step - loss: 5091.5767 - mae: 5091.5767 - mse: 109893624.0000 - val_loss: 5001.2598 - val_mae: 5001.2598 - val_mse: 98972272.0000\n",
            "Epoch 18/100\n",
            "27/27 [==============================] - 0s 5ms/step - loss: 4680.8877 - mae: 4680.8877 - mse: 95258760.0000 - val_loss: 4565.0601 - val_mae: 4565.0601 - val_mse: 86191112.0000\n",
            "Epoch 19/100\n",
            "27/27 [==============================] - 0s 5ms/step - loss: 4280.7480 - mae: 4280.7480 - mse: 82646448.0000 - val_loss: 4157.1196 - val_mae: 4157.1196 - val_mse: 74785856.0000\n",
            "Epoch 20/100\n",
            "27/27 [==============================] - 0s 5ms/step - loss: 3933.6672 - mae: 3933.6672 - mse: 71699112.0000 - val_loss: 3918.6968 - val_mae: 3918.6968 - val_mse: 67096912.0000\n",
            "Epoch 21/100\n",
            "27/27 [==============================] - 0s 5ms/step - loss: 3731.7505 - mae: 3731.7505 - mse: 63839468.0000 - val_loss: 3803.6523 - val_mae: 3803.6523 - val_mse: 61359900.0000\n",
            "Epoch 22/100\n",
            "27/27 [==============================] - 0s 5ms/step - loss: 3641.4526 - mae: 3641.4526 - mse: 58981368.0000 - val_loss: 3767.8035 - val_mae: 3767.8035 - val_mse: 58301308.0000\n",
            "Epoch 23/100\n",
            "27/27 [==============================] - 0s 5ms/step - loss: 3605.2114 - mae: 3605.2114 - mse: 56489832.0000 - val_loss: 3762.2405 - val_mae: 3762.2405 - val_mse: 56980392.0000\n",
            "Epoch 24/100\n",
            "27/27 [==============================] - 0s 4ms/step - loss: 3593.3586 - mae: 3593.3586 - mse: 54913736.0000 - val_loss: 3763.8169 - val_mae: 3763.8169 - val_mse: 55762412.0000\n",
            "Epoch 25/100\n",
            "27/27 [==============================] - 0s 5ms/step - loss: 3584.5012 - mae: 3584.5012 - mse: 53429348.0000 - val_loss: 3771.7461 - val_mae: 3771.7461 - val_mse: 54515052.0000\n",
            "Epoch 26/100\n",
            "27/27 [==============================] - 0s 5ms/step - loss: 3575.2461 - mae: 3575.2461 - mse: 52208124.0000 - val_loss: 3770.5347 - val_mae: 3770.5347 - val_mse: 53713724.0000\n",
            "Epoch 27/100\n",
            "27/27 [==============================] - 0s 6ms/step - loss: 3572.9272 - mae: 3572.9272 - mse: 51760760.0000 - val_loss: 3769.9834 - val_mae: 3769.9834 - val_mse: 53328036.0000\n",
            "Epoch 28/100\n",
            "27/27 [==============================] - 0s 7ms/step - loss: 3558.7961 - mae: 3558.7961 - mse: 50501988.0000 - val_loss: 3777.6172 - val_mae: 3777.6172 - val_mse: 52382388.0000\n",
            "Epoch 29/100\n",
            "27/27 [==============================] - 0s 5ms/step - loss: 3554.5532 - mae: 3554.5532 - mse: 49275772.0000 - val_loss: 3772.3403 - val_mae: 3772.3398 - val_mse: 51434832.0000\n",
            "Epoch 30/100\n",
            "27/27 [==============================] - 0s 5ms/step - loss: 3541.4507 - mae: 3541.4507 - mse: 48658728.0000 - val_loss: 3779.0583 - val_mae: 3779.0583 - val_mse: 51190960.0000\n",
            "Epoch 31/100\n",
            "27/27 [==============================] - 0s 5ms/step - loss: 3541.2024 - mae: 3541.2024 - mse: 47687652.0000 - val_loss: 3774.9387 - val_mae: 3774.9387 - val_mse: 50258332.0000\n",
            "Epoch 32/100\n",
            "27/27 [==============================] - 0s 5ms/step - loss: 3531.5198 - mae: 3531.5198 - mse: 46668736.0000 - val_loss: 3778.2498 - val_mae: 3778.2498 - val_mse: 49562556.0000\n",
            "Epoch 33/100\n",
            "27/27 [==============================] - 0s 5ms/step - loss: 3518.7883 - mae: 3518.7883 - mse: 45989440.0000 - val_loss: 3779.5942 - val_mae: 3779.5942 - val_mse: 49055948.0000\n",
            "Epoch 34/100\n",
            "27/27 [==============================] - 0s 3ms/step - loss: 3512.5415 - mae: 3512.5415 - mse: 45072508.0000 - val_loss: 3783.3872 - val_mae: 3783.3872 - val_mse: 48309636.0000\n",
            "Epoch 35/100\n",
            "27/27 [==============================] - 0s 3ms/step - loss: 3499.3711 - mae: 3499.3711 - mse: 44142984.0000 - val_loss: 3784.5481 - val_mae: 3784.5481 - val_mse: 48174624.0000\n",
            "Epoch 36/100\n",
            "27/27 [==============================] - 0s 4ms/step - loss: 3493.7039 - mae: 3493.7039 - mse: 43781208.0000 - val_loss: 3783.8491 - val_mae: 3783.8491 - val_mse: 47584992.0000\n",
            "Epoch 37/100\n",
            "27/27 [==============================] - 0s 3ms/step - loss: 3483.4578 - mae: 3483.4578 - mse: 42961748.0000 - val_loss: 3786.9341 - val_mae: 3786.9341 - val_mse: 47312984.0000\n",
            "Epoch 38/100\n",
            "27/27 [==============================] - 0s 3ms/step - loss: 3474.7073 - mae: 3474.7073 - mse: 42426164.0000 - val_loss: 3790.9988 - val_mae: 3790.9988 - val_mse: 46967516.0000\n",
            "Epoch 39/100\n",
            "27/27 [==============================] - 0s 3ms/step - loss: 3463.2129 - mae: 3463.2129 - mse: 41750800.0000 - val_loss: 3790.3696 - val_mae: 3790.3696 - val_mse: 46608524.0000\n",
            "Epoch 40/100\n",
            "27/27 [==============================] - 0s 3ms/step - loss: 3454.9243 - mae: 3454.9243 - mse: 41257088.0000 - val_loss: 3794.3184 - val_mae: 3794.3184 - val_mse: 46607752.0000\n",
            "Epoch 41/100\n",
            "27/27 [==============================] - 0s 3ms/step - loss: 3444.5569 - mae: 3444.5569 - mse: 40769780.0000 - val_loss: 3793.3818 - val_mae: 3793.3818 - val_mse: 46274956.0000\n",
            "Epoch 42/100\n",
            "27/27 [==============================] - 0s 3ms/step - loss: 3434.1658 - mae: 3434.1658 - mse: 40158628.0000 - val_loss: 3797.2466 - val_mae: 3797.2466 - val_mse: 46396872.0000\n",
            "Epoch 43/100\n",
            "27/27 [==============================] - 0s 3ms/step - loss: 3428.1772 - mae: 3428.1772 - mse: 40123316.0000 - val_loss: 3797.5615 - val_mae: 3797.5615 - val_mse: 46344820.0000\n",
            "Epoch 44/100\n",
            "27/27 [==============================] - 0s 3ms/step - loss: 3413.3726 - mae: 3413.3726 - mse: 39864032.0000 - val_loss: 3807.3127 - val_mae: 3807.3127 - val_mse: 46698828.0000\n",
            "Epoch 45/100\n",
            "27/27 [==============================] - 0s 3ms/step - loss: 3402.2971 - mae: 3402.2971 - mse: 39769176.0000 - val_loss: 3804.8364 - val_mae: 3804.8364 - val_mse: 46976848.0000\n",
            "Epoch 46/100\n",
            "27/27 [==============================] - 0s 3ms/step - loss: 3394.8159 - mae: 3394.8159 - mse: 39482072.0000 - val_loss: 3812.1797 - val_mae: 3812.1797 - val_mse: 47131788.0000\n",
            "Epoch 47/100\n",
            "27/27 [==============================] - 0s 4ms/step - loss: 3385.1729 - mae: 3385.1729 - mse: 39427580.0000 - val_loss: 3807.0442 - val_mae: 3807.0442 - val_mse: 47433072.0000\n",
            "Epoch 48/100\n",
            "27/27 [==============================] - 0s 3ms/step - loss: 3377.5938 - mae: 3377.5938 - mse: 39606452.0000 - val_loss: 3808.1699 - val_mae: 3808.1699 - val_mse: 47826636.0000\n",
            "Epoch 49/100\n",
            "27/27 [==============================] - 0s 3ms/step - loss: 3365.6484 - mae: 3365.6484 - mse: 39805924.0000 - val_loss: 3813.7803 - val_mae: 3813.7803 - val_mse: 48739408.0000\n",
            "Epoch 50/100\n",
            "27/27 [==============================] - 0s 3ms/step - loss: 3358.7473 - mae: 3358.7473 - mse: 40123416.0000 - val_loss: 3814.0774 - val_mae: 3814.0774 - val_mse: 49080316.0000\n",
            "Epoch 51/100\n",
            "27/27 [==============================] - 0s 4ms/step - loss: 3347.7854 - mae: 3347.7854 - mse: 40197744.0000 - val_loss: 3818.6609 - val_mae: 3818.6609 - val_mse: 49868336.0000\n",
            "Epoch 52/100\n",
            "27/27 [==============================] - 0s 3ms/step - loss: 3337.3516 - mae: 3337.3516 - mse: 40688168.0000 - val_loss: 3829.2600 - val_mae: 3829.2600 - val_mse: 50823728.0000\n",
            "Epoch 53/100\n",
            "27/27 [==============================] - 0s 3ms/step - loss: 3330.7249 - mae: 3330.7249 - mse: 41101924.0000 - val_loss: 3832.9331 - val_mae: 3832.9331 - val_mse: 51757308.0000\n",
            "Epoch 54/100\n",
            "27/27 [==============================] - 0s 4ms/step - loss: 3323.5679 - mae: 3323.5679 - mse: 41824768.0000 - val_loss: 3837.3530 - val_mae: 3837.3530 - val_mse: 52637264.0000\n",
            "Epoch 55/100\n",
            "27/27 [==============================] - 0s 3ms/step - loss: 3314.5859 - mae: 3314.5859 - mse: 42544232.0000 - val_loss: 3848.4734 - val_mae: 3848.4734 - val_mse: 53644900.0000\n",
            "Epoch 56/100\n",
            "27/27 [==============================] - 0s 3ms/step - loss: 3307.7615 - mae: 3307.7615 - mse: 43113684.0000 - val_loss: 3849.5283 - val_mae: 3849.5283 - val_mse: 55002360.0000\n",
            "Epoch 57/100\n",
            "27/27 [==============================] - 0s 4ms/step - loss: 3299.1016 - mae: 3299.1016 - mse: 44125688.0000 - val_loss: 3861.2781 - val_mae: 3861.2781 - val_mse: 56341972.0000\n",
            "Epoch 58/100\n",
            "27/27 [==============================] - 0s 4ms/step - loss: 3290.1914 - mae: 3290.1914 - mse: 44705724.0000 - val_loss: 3864.9451 - val_mae: 3864.9451 - val_mse: 57504892.0000\n",
            "Epoch 59/100\n",
            "27/27 [==============================] - 0s 3ms/step - loss: 3283.6260 - mae: 3283.6260 - mse: 45740792.0000 - val_loss: 3880.7048 - val_mae: 3880.7048 - val_mse: 58816808.0000\n",
            "Epoch 60/100\n",
            "27/27 [==============================] - 0s 3ms/step - loss: 3280.6875 - mae: 3280.6875 - mse: 46539656.0000 - val_loss: 3884.0564 - val_mae: 3884.0564 - val_mse: 59093324.0000\n",
            "Epoch 61/100\n",
            "27/27 [==============================] - 0s 3ms/step - loss: 3278.6255 - mae: 3278.6255 - mse: 46794436.0000 - val_loss: 3895.5979 - val_mae: 3895.5979 - val_mse: 59918208.0000\n",
            "Epoch 62/100\n",
            "27/27 [==============================] - 0s 3ms/step - loss: 3278.6616 - mae: 3278.6616 - mse: 47071800.0000 - val_loss: 3887.6279 - val_mae: 3887.6279 - val_mse: 59714984.0000\n",
            "Epoch 63/100\n",
            "27/27 [==============================] - 0s 3ms/step - loss: 3275.9883 - mae: 3275.9883 - mse: 46742432.0000 - val_loss: 3890.2542 - val_mae: 3890.2542 - val_mse: 59820468.0000\n",
            "Epoch 64/100\n",
            "27/27 [==============================] - 0s 4ms/step - loss: 3280.0742 - mae: 3280.0742 - mse: 46794188.0000 - val_loss: 3887.1216 - val_mae: 3887.1216 - val_mse: 59462124.0000\n",
            "Epoch 65/100\n",
            "27/27 [==============================] - 0s 3ms/step - loss: 3276.5237 - mae: 3276.5237 - mse: 46671820.0000 - val_loss: 3887.2393 - val_mae: 3887.2393 - val_mse: 59585856.0000\n",
            "Epoch 66/100\n",
            "27/27 [==============================] - 0s 4ms/step - loss: 3276.1885 - mae: 3276.1885 - mse: 46713352.0000 - val_loss: 3888.2036 - val_mae: 3888.2036 - val_mse: 59288788.0000\n",
            "Epoch 67/100\n",
            "27/27 [==============================] - 0s 4ms/step - loss: 3277.6267 - mae: 3277.6267 - mse: 46429072.0000 - val_loss: 3885.9958 - val_mae: 3885.9958 - val_mse: 59525040.0000\n",
            "Epoch 68/100\n",
            "27/27 [==============================] - 0s 4ms/step - loss: 3278.2830 - mae: 3278.2830 - mse: 46807816.0000 - val_loss: 3894.2112 - val_mae: 3894.2112 - val_mse: 59756568.0000\n",
            "Epoch 69/100\n",
            "27/27 [==============================] - 0s 3ms/step - loss: 3277.7407 - mae: 3277.7407 - mse: 46874508.0000 - val_loss: 3884.8108 - val_mae: 3884.8108 - val_mse: 59535196.0000\n",
            "Epoch 70/100\n",
            "27/27 [==============================] - 0s 4ms/step - loss: 3279.3362 - mae: 3279.3362 - mse: 46791636.0000 - val_loss: 3893.7007 - val_mae: 3893.7007 - val_mse: 59740484.0000\n",
            "Epoch 71/100\n",
            "27/27 [==============================] - 0s 4ms/step - loss: 3280.6357 - mae: 3280.6357 - mse: 46567696.0000 - val_loss: 3886.2629 - val_mae: 3886.2629 - val_mse: 59459680.0000\n",
            "Epoch 72/100\n",
            "27/27 [==============================] - 0s 4ms/step - loss: 3276.1650 - mae: 3276.1650 - mse: 46667900.0000 - val_loss: 3887.4763 - val_mae: 3887.4763 - val_mse: 59588536.0000\n",
            "Epoch 73/100\n",
            "27/27 [==============================] - 0s 3ms/step - loss: 3285.6367 - mae: 3285.6367 - mse: 47611684.0000 - val_loss: 3903.3374 - val_mae: 3903.3374 - val_mse: 60309580.0000\n",
            "Epoch 74/100\n",
            "27/27 [==============================] - 0s 4ms/step - loss: 3275.5693 - mae: 3275.5693 - mse: 47017560.0000 - val_loss: 3884.0586 - val_mae: 3884.0586 - val_mse: 59314928.0000\n",
            "Epoch 75/100\n",
            "27/27 [==============================] - 0s 4ms/step - loss: 3281.7505 - mae: 3281.7505 - mse: 46571796.0000 - val_loss: 3886.6099 - val_mae: 3886.6099 - val_mse: 59656696.0000\n",
            "Epoch 76/100\n",
            "27/27 [==============================] - 0s 4ms/step - loss: 3278.3203 - mae: 3278.3203 - mse: 47078668.0000 - val_loss: 3894.8528 - val_mae: 3894.8528 - val_mse: 59598248.0000\n",
            "Epoch 77/100\n",
            "27/27 [==============================] - 0s 4ms/step - loss: 3280.0674 - mae: 3280.0674 - mse: 46647544.0000 - val_loss: 3886.4863 - val_mae: 3886.4863 - val_mse: 59611280.0000\n",
            "Epoch 78/100\n",
            "27/27 [==============================] - 0s 4ms/step - loss: 3281.7688 - mae: 3281.7688 - mse: 46826284.0000 - val_loss: 3889.2710 - val_mae: 3889.2710 - val_mse: 59546412.0000\n",
            "Epoch 79/100\n",
            "27/27 [==============================] - 0s 3ms/step - loss: 3281.4482 - mae: 3281.4482 - mse: 47185624.0000 - val_loss: 3895.0042 - val_mae: 3895.0042 - val_mse: 59765744.0000\n",
            "Epoch 80/100\n",
            "27/27 [==============================] - 0s 3ms/step - loss: 3282.3044 - mae: 3282.3044 - mse: 46892608.0000 - val_loss: 3886.2351 - val_mae: 3886.2351 - val_mse: 59366928.0000\n",
            "Epoch 81/100\n",
            "27/27 [==============================] - 0s 4ms/step - loss: 3278.1858 - mae: 3278.1858 - mse: 46654132.0000 - val_loss: 3888.9973 - val_mae: 3888.9973 - val_mse: 59727284.0000\n",
            "Epoch 82/100\n",
            "27/27 [==============================] - 0s 4ms/step - loss: 3278.3811 - mae: 3278.3811 - mse: 46640752.0000 - val_loss: 3890.2749 - val_mae: 3890.2749 - val_mse: 59858536.0000\n",
            "Epoch 83/100\n",
            "27/27 [==============================] - 0s 4ms/step - loss: 3279.5435 - mae: 3279.5435 - mse: 47029132.0000 - val_loss: 3888.2283 - val_mae: 3888.2283 - val_mse: 59889708.0000\n",
            "Epoch 84/100\n",
            "27/27 [==============================] - 0s 3ms/step - loss: 3276.8486 - mae: 3276.8486 - mse: 47131032.0000 - val_loss: 3890.3096 - val_mae: 3890.3096 - val_mse: 59682800.0000\n",
            "Epoch 85/100\n",
            "27/27 [==============================] - 0s 4ms/step - loss: 3275.7375 - mae: 3275.7375 - mse: 46567308.0000 - val_loss: 3883.8962 - val_mae: 3883.8962 - val_mse: 59308344.0000\n",
            "Epoch 86/100\n",
            "27/27 [==============================] - 0s 4ms/step - loss: 3280.2083 - mae: 3280.2083 - mse: 46931964.0000 - val_loss: 3889.9861 - val_mae: 3889.9861 - val_mse: 59799332.0000\n",
            "Epoch 87/100\n",
            "27/27 [==============================] - 0s 4ms/step - loss: 3279.2922 - mae: 3279.2922 - mse: 46946800.0000 - val_loss: 3891.3701 - val_mae: 3891.3701 - val_mse: 59675916.0000\n",
            "Epoch 88/100\n",
            "27/27 [==============================] - 0s 4ms/step - loss: 3280.4929 - mae: 3280.4929 - mse: 46766832.0000 - val_loss: 3887.2192 - val_mae: 3887.2192 - val_mse: 59619784.0000\n",
            "Epoch 89/100\n",
            "27/27 [==============================] - 0s 4ms/step - loss: 3279.3301 - mae: 3279.3301 - mse: 46621400.0000 - val_loss: 3883.8447 - val_mae: 3883.8447 - val_mse: 59434176.0000\n",
            "Epoch 90/100\n",
            "27/27 [==============================] - 0s 3ms/step - loss: 3276.9675 - mae: 3276.9675 - mse: 46882652.0000 - val_loss: 3891.9092 - val_mae: 3891.9092 - val_mse: 59932508.0000\n",
            "Epoch 91/100\n",
            "27/27 [==============================] - 0s 3ms/step - loss: 3276.3181 - mae: 3276.3181 - mse: 47022704.0000 - val_loss: 3884.7681 - val_mae: 3884.7681 - val_mse: 59780092.0000\n",
            "Epoch 92/100\n",
            "27/27 [==============================] - 0s 4ms/step - loss: 3278.7979 - mae: 3278.7979 - mse: 46907276.0000 - val_loss: 3894.0801 - val_mae: 3894.0801 - val_mse: 59507440.0000\n",
            "Epoch 93/100\n",
            "27/27 [==============================] - 0s 4ms/step - loss: 3276.0789 - mae: 3276.0789 - mse: 46653584.0000 - val_loss: 3889.5254 - val_mae: 3889.5254 - val_mse: 59678736.0000\n",
            "Epoch 94/100\n",
            "27/27 [==============================] - 0s 3ms/step - loss: 3276.6804 - mae: 3276.6804 - mse: 46986144.0000 - val_loss: 3886.0540 - val_mae: 3886.0540 - val_mse: 59537184.0000\n",
            "Epoch 95/100\n",
            "27/27 [==============================] - 0s 4ms/step - loss: 3279.0332 - mae: 3279.0332 - mse: 46743668.0000 - val_loss: 3883.2810 - val_mae: 3883.2810 - val_mse: 59431640.0000\n",
            "Epoch 96/100\n",
            "27/27 [==============================] - 0s 4ms/step - loss: 3278.7214 - mae: 3278.7214 - mse: 46476268.0000 - val_loss: 3886.0442 - val_mae: 3886.0442 - val_mse: 59532608.0000\n",
            "Epoch 97/100\n",
            "27/27 [==============================] - 0s 3ms/step - loss: 3279.6470 - mae: 3279.6470 - mse: 47135104.0000 - val_loss: 3895.0210 - val_mae: 3895.0210 - val_mse: 59894672.0000\n",
            "Epoch 98/100\n",
            "27/27 [==============================] - 0s 4ms/step - loss: 3278.1326 - mae: 3278.1326 - mse: 46657824.0000 - val_loss: 3884.0391 - val_mae: 3884.0391 - val_mse: 59616020.0000\n",
            "Epoch 99/100\n",
            "27/27 [==============================] - 0s 3ms/step - loss: 3283.4153 - mae: 3283.4153 - mse: 46400752.0000 - val_loss: 3883.3220 - val_mae: 3883.3220 - val_mse: 59302520.0000\n",
            "Epoch 100/100\n",
            "27/27 [==============================] - 0s 3ms/step - loss: 3280.5500 - mae: 3280.5500 - mse: 46829808.0000 - val_loss: 3894.9307 - val_mae: 3894.9307 - val_mse: 60051580.0000\n"
          ]
        },
        {
          "output_type": "execute_result",
          "data": {
            "text/plain": [
              "<keras.src.callbacks.History at 0x79c319f822f0>"
            ]
          },
          "metadata": {},
          "execution_count": 9
        }
      ]
    },
    {
      "cell_type": "markdown",
      "source": [
        "**Test**"
      ],
      "metadata": {
        "id": "-Zp5jtJgtz-h"
      }
    },
    {
      "cell_type": "code",
      "source": [
        "# RUN THIS CELL TO TEST YOUR MODEL. DO NOT MODIFY CONTENTS.\n",
        "# Test model by checking how well the model generalizes using the test set.\n",
        "loss, mae, mse = model.evaluate(test_dataset, test_labels, verbose=2)\n",
        "\n",
        "print(\"Testing set Mean Abs Error: {:5.2f} expenses\".format(mae))\n",
        "\n",
        "if mae < 3500:\n",
        "  print(\"You passed the challenge. Great job!\")\n",
        "else:\n",
        "  print(\"The Mean Abs Error must be less than 3500. Keep trying.\")\n",
        "\n",
        "# Plot predictions.\n",
        "test_predictions = model.predict(test_dataset).flatten()\n",
        "\n",
        "a = plt.axes(aspect='equal')\n",
        "plt.scatter(test_labels, test_predictions)\n",
        "plt.xlabel('True values (expenses)')\n",
        "plt.ylabel('Predictions (expenses)')\n",
        "lims = [0, 50000]\n",
        "plt.xlim(lims)\n",
        "plt.ylim(lims)\n",
        "_ = plt.plot(lims,lims)"
      ],
      "metadata": {
        "colab": {
          "base_uri": "https://localhost:8080/",
          "height": 524
        },
        "id": "vSqFr0Yrt2mi",
        "outputId": "150ac63a-6e19-4fb6-a80d-0301b14d3fed"
      },
      "execution_count": 11,
      "outputs": [
        {
          "output_type": "stream",
          "name": "stdout",
          "text": [
            "9/9 - 0s - loss: 3474.9714 - mae: 3474.9714 - mse: 48022284.0000 - 139ms/epoch - 15ms/step\n",
            "Testing set Mean Abs Error: 3474.97 expenses\n",
            "You passed the challenge. Great job!\n",
            "9/9 [==============================] - 0s 7ms/step\n"
          ]
        },
        {
          "output_type": "display_data",
          "data": {
            "text/plain": [
              "<Figure size 640x480 with 1 Axes>"
            ],
            "image/png": "[encoded data removed]"
          },
          "metadata": {}
        }
      ]
    }
  ]
}